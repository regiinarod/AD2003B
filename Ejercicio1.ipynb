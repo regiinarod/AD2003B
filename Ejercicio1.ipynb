{
  "nbformat": 4,
  "nbformat_minor": 0,
  "metadata": {
    "colab": {
      "provenance": []
    },
    "kernelspec": {
      "name": "python3",
      "display_name": "Python 3"
    },
    "language_info": {
      "name": "python"
    }
  },
  "cells": [
    {
      "cell_type": "markdown",
      "metadata": {
        "id": "dggpjPWpZQkR"
      },
      "source": [
        "#PRACTICA\n",
        "### AD2004B.403.M2.EF2023\n",
        "### Laboratorio de PANDAS\n",
        "\n",
        "\n",
        "\n",
        "> En este Lab practicaras el uso de **Pandas** para realizar análisis de datos. Partiremos de la carga de datos desde un archivo de Excel para despues manipular visualizar esto datos con Python. \n",
        "EL archivo de Excel debe de estar en Github.\n",
        "\n",
        "\n",
        "\n",
        "##### Nombre del archivo: \"labPandas\"\n",
        "#### Utilizaremos el archivo \"Superstore.xls\"\n"
      ]
    },
    {
      "cell_type": "markdown",
      "metadata": {
        "id": "YKRwrzneZQkU"
      },
      "source": [
        "## PANDAS\n",
        "https://pandas.pydata.org/pandas-docs/stable/user_guide/io.html\n",
        "\n",
        "https://pandas.pydata.org/pandas-docs/stable/reference/api/pandas.DataFrame.html\n",
        "\n",
        "\n",
        "**Importar** un archivo de datos con **pandas**\n",
        ">Como primer paso se debe importar la libreria de Pandas, lo cual nos da acceso a las funciones necesarias para manipulación de los datos.\n"
      ]
    },
    {
      "cell_type": "code",
      "execution_count": 1,
      "metadata": {
        "id": "Z7ldwqxXZQkV"
      },
      "outputs": [],
      "source": [
        "# Importamos la Libreria pandas con el alias \"pd\"\n",
        "import pandas as pd "
      ]
    },
    {
      "cell_type": "markdown",
      "metadata": {
        "id": "sJqVOUwfZQkW"
      },
      "source": [
        "## Importar archivo de Excel\n",
        "> Es importante que tengan correcta la ruta donde esta el archivo, en este caso el archivo debe estar en el repositorio correspondiente a la clase de GitHub."
      ]
    },
    {
      "cell_type": "code",
      "execution_count": 2,
      "metadata": {
        "id": "En0dbgWcZQkW",
        "colab": {
          "base_uri": "https://localhost:8080/",
          "height": 898
        },
        "outputId": "c8c95246-6478-4bd4-ebd3-1926b85f34ab"
      },
      "outputs": [
        {
          "output_type": "execute_result",
          "data": {
            "text/plain": [
              "               Customer ID     Customer Name      Segment           City  \\\n",
              "Order ID                                                                   \n",
              "CA-2018-140326    HW-14935   Helen Wasserman    Corporate        Chicago   \n",
              "CA-2016-130785    AG-10900     Arthur Gainer     Consumer      San Diego   \n",
              "CA-2015-105249    DH-13675     Duane Huffman  Home Office  San Francisco   \n",
              "CA-2018-125472    BD-11725  Bruce Degenhardt     Consumer      Lafayette   \n",
              "CA-2016-118423    DP-13390     Dennis Pardue  Home Office         Peoria   \n",
              "...                    ...               ...          ...            ...   \n",
              "CA-2018-144498    MB-18085        Mick Brown     Consumer      Charlotte   \n",
              "CA-2015-167199    ME-17320     Maria Etezadi  Home Office      Henderson   \n",
              "CA-2018-121048    TC-21295     Toby Carlisle     Consumer    Westminster   \n",
              "CA-2018-167395    KM-16720      Kunst Miller     Consumer         Lowell   \n",
              "CA-2016-128608    CS-12490  Cindy Schnelling    Corporate         Toledo   \n",
              "\n",
              "                Postal Code   Region       Product ID    Category  \\\n",
              "Order ID                                                            \n",
              "CA-2018-140326      60653.0  Central  FUR-BO-10000112   Furniture   \n",
              "CA-2016-130785      92105.0     West  FUR-BO-10000330   Furniture   \n",
              "CA-2015-105249      94122.0     West  FUR-BO-10000330   Furniture   \n",
              "CA-2018-125472      70506.0    South  FUR-BO-10000330   Furniture   \n",
              "CA-2016-118423      61604.0  Central  FUR-BO-10000362   Furniture   \n",
              "...                     ...      ...              ...         ...   \n",
              "CA-2018-144498      28205.0    South  TEC-PH-10004977  Technology   \n",
              "CA-2015-167199      42420.0    South  TEC-PH-10004977  Technology   \n",
              "CA-2018-121048      92683.0     West  TEC-PH-10004977  Technology   \n",
              "CA-2018-167395       1852.0     East  TEC-PH-10004977  Technology   \n",
              "CA-2016-128608      43615.0     East  TEC-PH-10004977  Technology   \n",
              "\n",
              "               Sub-Category  \\\n",
              "Order ID                      \n",
              "CA-2018-140326    Bookcases   \n",
              "CA-2016-130785    Bookcases   \n",
              "CA-2015-105249    Bookcases   \n",
              "CA-2018-125472    Bookcases   \n",
              "CA-2016-118423    Bookcases   \n",
              "...                     ...   \n",
              "CA-2018-144498       Phones   \n",
              "CA-2015-167199       Phones   \n",
              "CA-2018-121048       Phones   \n",
              "CA-2018-167395       Phones   \n",
              "CA-2016-128608       Phones   \n",
              "\n",
              "                                                     Product Name    Sales  \\\n",
              "Order ID                                                                     \n",
              "CA-2018-140326   Bush Birmingham Collection Bookcase, Dark Cherry  825.174   \n",
              "CA-2016-130785  Sauder Camden County Barrister Bookcase, Plank...  411.332   \n",
              "CA-2015-105249  Sauder Camden County Barrister Bookcase, Plank...  411.332   \n",
              "CA-2018-125472  Sauder Camden County Barrister Bookcase, Plank...  241.960   \n",
              "CA-2016-118423                 Sauder Inglewood Library Bookcases  359.058   \n",
              "...                                                           ...      ...   \n",
              "CA-2018-144498                                        GE 30524EE4  627.168   \n",
              "CA-2015-167199                                        GE 30524EE4  391.980   \n",
              "CA-2018-121048                                        GE 30524EE4  470.376   \n",
              "CA-2018-167395                                        GE 30524EE4  979.950   \n",
              "CA-2016-128608                                        GE 30524EE4  235.188   \n",
              "\n",
              "                Quantity  Discount    Profit  \n",
              "Order ID                                      \n",
              "CA-2018-140326         9      0.30 -117.8820  \n",
              "CA-2016-130785         4      0.15   -4.8392  \n",
              "CA-2015-105249         4      0.15   -4.8392  \n",
              "CA-2018-125472         2      0.00   33.8744  \n",
              "CA-2016-118423         3      0.30  -35.9058  \n",
              "...                  ...       ...       ...  \n",
              "CA-2018-144498         4      0.20   70.5564  \n",
              "CA-2015-167199         2      0.00  113.6742  \n",
              "CA-2018-121048         3      0.20   52.9173  \n",
              "CA-2018-167395         5      0.00  284.1855  \n",
              "CA-2016-128608         2      0.40  -43.1178  \n",
              "\n",
              "[9994 rows x 14 columns]"
            ],
            "text/html": [
              "\n",
              "  <div id=\"df-3db1697a-1031-4053-8eb0-d34f524bf47c\">\n",
              "    <div class=\"colab-df-container\">\n",
              "      <div>\n",
              "<style scoped>\n",
              "    .dataframe tbody tr th:only-of-type {\n",
              "        vertical-align: middle;\n",
              "    }\n",
              "\n",
              "    .dataframe tbody tr th {\n",
              "        vertical-align: top;\n",
              "    }\n",
              "\n",
              "    .dataframe thead th {\n",
              "        text-align: right;\n",
              "    }\n",
              "</style>\n",
              "<table border=\"1\" class=\"dataframe\">\n",
              "  <thead>\n",
              "    <tr style=\"text-align: right;\">\n",
              "      <th></th>\n",
              "      <th>Customer ID</th>\n",
              "      <th>Customer Name</th>\n",
              "      <th>Segment</th>\n",
              "      <th>City</th>\n",
              "      <th>Postal Code</th>\n",
              "      <th>Region</th>\n",
              "      <th>Product ID</th>\n",
              "      <th>Category</th>\n",
              "      <th>Sub-Category</th>\n",
              "      <th>Product Name</th>\n",
              "      <th>Sales</th>\n",
              "      <th>Quantity</th>\n",
              "      <th>Discount</th>\n",
              "      <th>Profit</th>\n",
              "    </tr>\n",
              "    <tr>\n",
              "      <th>Order ID</th>\n",
              "      <th></th>\n",
              "      <th></th>\n",
              "      <th></th>\n",
              "      <th></th>\n",
              "      <th></th>\n",
              "      <th></th>\n",
              "      <th></th>\n",
              "      <th></th>\n",
              "      <th></th>\n",
              "      <th></th>\n",
              "      <th></th>\n",
              "      <th></th>\n",
              "      <th></th>\n",
              "      <th></th>\n",
              "    </tr>\n",
              "  </thead>\n",
              "  <tbody>\n",
              "    <tr>\n",
              "      <th>CA-2018-140326</th>\n",
              "      <td>HW-14935</td>\n",
              "      <td>Helen Wasserman</td>\n",
              "      <td>Corporate</td>\n",
              "      <td>Chicago</td>\n",
              "      <td>60653.0</td>\n",
              "      <td>Central</td>\n",
              "      <td>FUR-BO-10000112</td>\n",
              "      <td>Furniture</td>\n",
              "      <td>Bookcases</td>\n",
              "      <td>Bush Birmingham Collection Bookcase, Dark Cherry</td>\n",
              "      <td>825.174</td>\n",
              "      <td>9</td>\n",
              "      <td>0.30</td>\n",
              "      <td>-117.8820</td>\n",
              "    </tr>\n",
              "    <tr>\n",
              "      <th>CA-2016-130785</th>\n",
              "      <td>AG-10900</td>\n",
              "      <td>Arthur Gainer</td>\n",
              "      <td>Consumer</td>\n",
              "      <td>San Diego</td>\n",
              "      <td>92105.0</td>\n",
              "      <td>West</td>\n",
              "      <td>FUR-BO-10000330</td>\n",
              "      <td>Furniture</td>\n",
              "      <td>Bookcases</td>\n",
              "      <td>Sauder Camden County Barrister Bookcase, Plank...</td>\n",
              "      <td>411.332</td>\n",
              "      <td>4</td>\n",
              "      <td>0.15</td>\n",
              "      <td>-4.8392</td>\n",
              "    </tr>\n",
              "    <tr>\n",
              "      <th>CA-2015-105249</th>\n",
              "      <td>DH-13675</td>\n",
              "      <td>Duane Huffman</td>\n",
              "      <td>Home Office</td>\n",
              "      <td>San Francisco</td>\n",
              "      <td>94122.0</td>\n",
              "      <td>West</td>\n",
              "      <td>FUR-BO-10000330</td>\n",
              "      <td>Furniture</td>\n",
              "      <td>Bookcases</td>\n",
              "      <td>Sauder Camden County Barrister Bookcase, Plank...</td>\n",
              "      <td>411.332</td>\n",
              "      <td>4</td>\n",
              "      <td>0.15</td>\n",
              "      <td>-4.8392</td>\n",
              "    </tr>\n",
              "    <tr>\n",
              "      <th>CA-2018-125472</th>\n",
              "      <td>BD-11725</td>\n",
              "      <td>Bruce Degenhardt</td>\n",
              "      <td>Consumer</td>\n",
              "      <td>Lafayette</td>\n",
              "      <td>70506.0</td>\n",
              "      <td>South</td>\n",
              "      <td>FUR-BO-10000330</td>\n",
              "      <td>Furniture</td>\n",
              "      <td>Bookcases</td>\n",
              "      <td>Sauder Camden County Barrister Bookcase, Plank...</td>\n",
              "      <td>241.960</td>\n",
              "      <td>2</td>\n",
              "      <td>0.00</td>\n",
              "      <td>33.8744</td>\n",
              "    </tr>\n",
              "    <tr>\n",
              "      <th>CA-2016-118423</th>\n",
              "      <td>DP-13390</td>\n",
              "      <td>Dennis Pardue</td>\n",
              "      <td>Home Office</td>\n",
              "      <td>Peoria</td>\n",
              "      <td>61604.0</td>\n",
              "      <td>Central</td>\n",
              "      <td>FUR-BO-10000362</td>\n",
              "      <td>Furniture</td>\n",
              "      <td>Bookcases</td>\n",
              "      <td>Sauder Inglewood Library Bookcases</td>\n",
              "      <td>359.058</td>\n",
              "      <td>3</td>\n",
              "      <td>0.30</td>\n",
              "      <td>-35.9058</td>\n",
              "    </tr>\n",
              "    <tr>\n",
              "      <th>...</th>\n",
              "      <td>...</td>\n",
              "      <td>...</td>\n",
              "      <td>...</td>\n",
              "      <td>...</td>\n",
              "      <td>...</td>\n",
              "      <td>...</td>\n",
              "      <td>...</td>\n",
              "      <td>...</td>\n",
              "      <td>...</td>\n",
              "      <td>...</td>\n",
              "      <td>...</td>\n",
              "      <td>...</td>\n",
              "      <td>...</td>\n",
              "      <td>...</td>\n",
              "    </tr>\n",
              "    <tr>\n",
              "      <th>CA-2018-144498</th>\n",
              "      <td>MB-18085</td>\n",
              "      <td>Mick Brown</td>\n",
              "      <td>Consumer</td>\n",
              "      <td>Charlotte</td>\n",
              "      <td>28205.0</td>\n",
              "      <td>South</td>\n",
              "      <td>TEC-PH-10004977</td>\n",
              "      <td>Technology</td>\n",
              "      <td>Phones</td>\n",
              "      <td>GE 30524EE4</td>\n",
              "      <td>627.168</td>\n",
              "      <td>4</td>\n",
              "      <td>0.20</td>\n",
              "      <td>70.5564</td>\n",
              "    </tr>\n",
              "    <tr>\n",
              "      <th>CA-2015-167199</th>\n",
              "      <td>ME-17320</td>\n",
              "      <td>Maria Etezadi</td>\n",
              "      <td>Home Office</td>\n",
              "      <td>Henderson</td>\n",
              "      <td>42420.0</td>\n",
              "      <td>South</td>\n",
              "      <td>TEC-PH-10004977</td>\n",
              "      <td>Technology</td>\n",
              "      <td>Phones</td>\n",
              "      <td>GE 30524EE4</td>\n",
              "      <td>391.980</td>\n",
              "      <td>2</td>\n",
              "      <td>0.00</td>\n",
              "      <td>113.6742</td>\n",
              "    </tr>\n",
              "    <tr>\n",
              "      <th>CA-2018-121048</th>\n",
              "      <td>TC-21295</td>\n",
              "      <td>Toby Carlisle</td>\n",
              "      <td>Consumer</td>\n",
              "      <td>Westminster</td>\n",
              "      <td>92683.0</td>\n",
              "      <td>West</td>\n",
              "      <td>TEC-PH-10004977</td>\n",
              "      <td>Technology</td>\n",
              "      <td>Phones</td>\n",
              "      <td>GE 30524EE4</td>\n",
              "      <td>470.376</td>\n",
              "      <td>3</td>\n",
              "      <td>0.20</td>\n",
              "      <td>52.9173</td>\n",
              "    </tr>\n",
              "    <tr>\n",
              "      <th>CA-2018-167395</th>\n",
              "      <td>KM-16720</td>\n",
              "      <td>Kunst Miller</td>\n",
              "      <td>Consumer</td>\n",
              "      <td>Lowell</td>\n",
              "      <td>1852.0</td>\n",
              "      <td>East</td>\n",
              "      <td>TEC-PH-10004977</td>\n",
              "      <td>Technology</td>\n",
              "      <td>Phones</td>\n",
              "      <td>GE 30524EE4</td>\n",
              "      <td>979.950</td>\n",
              "      <td>5</td>\n",
              "      <td>0.00</td>\n",
              "      <td>284.1855</td>\n",
              "    </tr>\n",
              "    <tr>\n",
              "      <th>CA-2016-128608</th>\n",
              "      <td>CS-12490</td>\n",
              "      <td>Cindy Schnelling</td>\n",
              "      <td>Corporate</td>\n",
              "      <td>Toledo</td>\n",
              "      <td>43615.0</td>\n",
              "      <td>East</td>\n",
              "      <td>TEC-PH-10004977</td>\n",
              "      <td>Technology</td>\n",
              "      <td>Phones</td>\n",
              "      <td>GE 30524EE4</td>\n",
              "      <td>235.188</td>\n",
              "      <td>2</td>\n",
              "      <td>0.40</td>\n",
              "      <td>-43.1178</td>\n",
              "    </tr>\n",
              "  </tbody>\n",
              "</table>\n",
              "<p>9994 rows × 14 columns</p>\n",
              "</div>\n",
              "      <button class=\"colab-df-convert\" onclick=\"convertToInteractive('df-3db1697a-1031-4053-8eb0-d34f524bf47c')\"\n",
              "              title=\"Convert this dataframe to an interactive table.\"\n",
              "              style=\"display:none;\">\n",
              "        \n",
              "  <svg xmlns=\"http://www.w3.org/2000/svg\" height=\"24px\"viewBox=\"0 0 24 24\"\n",
              "       width=\"24px\">\n",
              "    <path d=\"M0 0h24v24H0V0z\" fill=\"none\"/>\n",
              "    <path d=\"M18.56 5.44l.94 2.06.94-2.06 2.06-.94-2.06-.94-.94-2.06-.94 2.06-2.06.94zm-11 1L8.5 8.5l.94-2.06 2.06-.94-2.06-.94L8.5 2.5l-.94 2.06-2.06.94zm10 10l.94 2.06.94-2.06 2.06-.94-2.06-.94-.94-2.06-.94 2.06-2.06.94z\"/><path d=\"M17.41 7.96l-1.37-1.37c-.4-.4-.92-.59-1.43-.59-.52 0-1.04.2-1.43.59L10.3 9.45l-7.72 7.72c-.78.78-.78 2.05 0 2.83L4 21.41c.39.39.9.59 1.41.59.51 0 1.02-.2 1.41-.59l7.78-7.78 2.81-2.81c.8-.78.8-2.07 0-2.86zM5.41 20L4 18.59l7.72-7.72 1.47 1.35L5.41 20z\"/>\n",
              "  </svg>\n",
              "      </button>\n",
              "      \n",
              "  <style>\n",
              "    .colab-df-container {\n",
              "      display:flex;\n",
              "      flex-wrap:wrap;\n",
              "      gap: 12px;\n",
              "    }\n",
              "\n",
              "    .colab-df-convert {\n",
              "      background-color: #E8F0FE;\n",
              "      border: none;\n",
              "      border-radius: 50%;\n",
              "      cursor: pointer;\n",
              "      display: none;\n",
              "      fill: #1967D2;\n",
              "      height: 32px;\n",
              "      padding: 0 0 0 0;\n",
              "      width: 32px;\n",
              "    }\n",
              "\n",
              "    .colab-df-convert:hover {\n",
              "      background-color: #E2EBFA;\n",
              "      box-shadow: 0px 1px 2px rgba(60, 64, 67, 0.3), 0px 1px 3px 1px rgba(60, 64, 67, 0.15);\n",
              "      fill: #174EA6;\n",
              "    }\n",
              "\n",
              "    [theme=dark] .colab-df-convert {\n",
              "      background-color: #3B4455;\n",
              "      fill: #D2E3FC;\n",
              "    }\n",
              "\n",
              "    [theme=dark] .colab-df-convert:hover {\n",
              "      background-color: #434B5C;\n",
              "      box-shadow: 0px 1px 3px 1px rgba(0, 0, 0, 0.15);\n",
              "      filter: drop-shadow(0px 1px 2px rgba(0, 0, 0, 0.3));\n",
              "      fill: #FFFFFF;\n",
              "    }\n",
              "  </style>\n",
              "\n",
              "      <script>\n",
              "        const buttonEl =\n",
              "          document.querySelector('#df-3db1697a-1031-4053-8eb0-d34f524bf47c button.colab-df-convert');\n",
              "        buttonEl.style.display =\n",
              "          google.colab.kernel.accessAllowed ? 'block' : 'none';\n",
              "\n",
              "        async function convertToInteractive(key) {\n",
              "          const element = document.querySelector('#df-3db1697a-1031-4053-8eb0-d34f524bf47c');\n",
              "          const dataTable =\n",
              "            await google.colab.kernel.invokeFunction('convertToInteractive',\n",
              "                                                     [key], {});\n",
              "          if (!dataTable) return;\n",
              "\n",
              "          const docLinkHtml = 'Like what you see? Visit the ' +\n",
              "            '<a target=\"_blank\" href=https://colab.research.google.com/notebooks/data_table.ipynb>data table notebook</a>'\n",
              "            + ' to learn more about interactive tables.';\n",
              "          element.innerHTML = '';\n",
              "          dataTable['output_type'] = 'display_data';\n",
              "          await google.colab.output.renderOutput(dataTable, element);\n",
              "          const docLink = document.createElement('div');\n",
              "          docLink.innerHTML = docLinkHtml;\n",
              "          element.appendChild(docLink);\n",
              "        }\n",
              "      </script>\n",
              "    </div>\n",
              "  </div>\n",
              "  "
            ]
          },
          "metadata": {},
          "execution_count": 2
        }
      ],
      "source": [
        "#Importar archivo en un dataframe\n",
        "URL = 'https://raw.githubusercontent.com/REGINAA00573752/AD2003B/main/Superstore.xls'\n",
        "data = pd.read_excel(URL, index_col=0)\n",
        "data"
      ]
    },
    {
      "cell_type": "code",
      "source": [
        "#Exportar datos\n",
        "data.to_csv('output.csv')\n",
        "#data.to_ (para mandar el archivo)"
      ],
      "metadata": {
        "id": "8UDQbDswGFdR"
      },
      "execution_count": null,
      "outputs": []
    },
    {
      "cell_type": "markdown",
      "source": [
        "# Conoce los Datos.\n",
        "Identificar y documentar de manera general que contiene el archivo de datos.\n",
        "Una buena idea es crear un glosario de términos donde se describa cada uno de los datos manejados.\n"
      ],
      "metadata": {
        "id": "gV2jqWgLaWNb"
      }
    },
    {
      "cell_type": "code",
      "source": [
        "#Ejecuta las intrucciones necesarias para conocer los datos. \n",
        "# METADATOS:Tipos de datos, tamaño del dataframe, nombres de columnas, etc.\n",
        "# DATOS: Observa los datos de manera inicial, oberva los primeros n y los ultimos n, donde pruebes con varios valores de n\n",
        "# Cada instrucción colocala en un renglón para que agregues la documentación necesaria de los que estas observando.\n"
      ],
      "metadata": {
        "id": "-z1O1dp6aP8J"
      },
      "execution_count": null,
      "outputs": []
    },
    {
      "cell_type": "markdown",
      "source": [
        "# **FILTROS**"
      ],
      "metadata": {
        "id": "Yx42phJ0papi"
      }
    },
    {
      "cell_type": "markdown",
      "metadata": {
        "id": "kzvZISOYZQkY"
      },
      "source": [
        "### Mostrar columas especificas de un dataframe.\n",
        "Crea un dataframe \"dfCLientes\" donde almacenes el ID del CLiente y su nombre.\n",
        "Muestra el dataframe.\n",
        "\n",
        "dataframe[[\"col1\", \"col2\"]]"
      ]
    },
    {
      "cell_type": "code",
      "execution_count": null,
      "metadata": {
        "id": "o9G05RS-ZQkY"
      },
      "outputs": [],
      "source": []
    },
    {
      "cell_type": "markdown",
      "source": [
        "**CLIENTES**.\n",
        "¿Cuantos clientes se tienen?\n",
        "Crea un dataframe con los IDs y nombre de clientes sin que estos se repitan.\n",
        "Muestra la información."
      ],
      "metadata": {
        "id": "3_W5p6mGqUbx"
      }
    },
    {
      "cell_type": "code",
      "source": [],
      "metadata": {
        "id": "hqHoCAgIq23L"
      },
      "execution_count": null,
      "outputs": []
    },
    {
      "cell_type": "markdown",
      "source": [
        "**Analiza los datos unicos.**\n",
        "\n",
        "Obten la lista de ciudades,segmentos, regiones y categorias. De cada uno conoce la cantidad y visualiza las listas.\n",
        "Crea un dataframe nuevo por cada consulta, el unique genera un arreglo numpy, conviertelo a dataframe, vizualizalo.\n"
      ],
      "metadata": {
        "id": "Ae1a2n1zzsDB"
      }
    },
    {
      "cell_type": "code",
      "source": [],
      "metadata": {
        "id": "KTjE3vuK0Huy"
      },
      "execution_count": null,
      "outputs": []
    },
    {
      "cell_type": "markdown",
      "metadata": {
        "id": "xeE3avk6ZQkY"
      },
      "source": [
        "# **Filtros con**  iloc - loc\n",
        "https://pandas.pydata.org/pandas-docs/stable/reference/api/pandas.DataFrame.iloc.html?highlight=iloc#pandas.DataFrame.iloc\n",
        "\n",
        "https://pandas.pydata.org/pandas-docs/stable/reference/api/pandas.DataFrame.loc.html\n",
        "\n"
      ]
    },
    {
      "cell_type": "markdown",
      "source": [
        "Con la instrucción iloc y el dataframe dfDatos\n",
        "\n",
        "*   Muestra los primeros 10 registros.\n",
        "*   Muestra los registros del 20 al 25.\n",
        "*   Muestra 10 registros con indices seleccionados aleatoreamente\n",
        "*   Muestra los registros del 100 al 120, pero solo las columnas 4, 5 y 6\n",
        "\n",
        "\n"
      ],
      "metadata": {
        "id": "NcTlPq4ArR0u"
      }
    },
    {
      "cell_type": "code",
      "execution_count": null,
      "metadata": {
        "id": "AkalZ4ViZQkZ"
      },
      "outputs": [],
      "source": [
        "# iloc\n",
        "\n",
        "\n",
        "\n"
      ]
    },
    {
      "cell_type": "markdown",
      "source": [
        "Con la instrucción loc:\n",
        "\n",
        "\n",
        "*   En una nuev df Asigna el ID de la orden como dato indice.\n",
        "*   Realiza la busqueda de la orden \"CA-2015-154599\"\n",
        "*   Obtnen los registros con Sales mayor a 5000. ¿cuantos son?\n",
        "\n",
        "\n"
      ],
      "metadata": {
        "id": "bTP8Bwp-txz4"
      }
    },
    {
      "cell_type": "code",
      "execution_count": null,
      "metadata": {
        "id": "YePgpwQSZQkZ"
      },
      "outputs": [],
      "source": [
        "# loc\n"
      ]
    },
    {
      "cell_type": "markdown",
      "metadata": {
        "id": "9isi8lNfZQkZ"
      },
      "source": [
        "## Estadisticas básicas con pandas\n",
        "https://datatofish.com/use-pandas-to-calculate-stats-from-an-imported-csv-file/\n",
        "\n",
        "df.describe()\n",
        "Mean, sum, Maximum, Minimum, Count, Median, Standard deviation, Variance.\n",
        "\n",
        "Obrten las estadisticas de los datos.\n",
        "\n",
        "\n",
        "_________\n",
        "\n",
        "\n"
      ]
    },
    {
      "cell_type": "code",
      "execution_count": null,
      "metadata": {
        "id": "8eOtjC75ZQka"
      },
      "outputs": [],
      "source": [
        "# Estadisticas basicas"
      ]
    },
    {
      "cell_type": "markdown",
      "metadata": {
        "id": "9JjTow5HZQka"
      },
      "source": [
        "**### Estadisticas con una condición**"
      ]
    },
    {
      "cell_type": "markdown",
      "source": [
        "Obten el promedio de utilidad de la región Central\n",
        "\n",
        "Ejemplo de salida:\n",
        "\n",
        "***Promedio de utilidad de ordenes de la región central : 23.45***"
      ],
      "metadata": {
        "id": "kHNXIBFox6Ru"
      }
    },
    {
      "cell_type": "code",
      "execution_count": null,
      "metadata": {
        "id": "m-hR8zB2ZQka"
      },
      "outputs": [],
      "source": [
        "# utiliza la intrucción loc para filtrar\n"
      ]
    },
    {
      "cell_type": "markdown",
      "source": [
        "Obten la suma de ventas de la categoría \"Technology\""
      ],
      "metadata": {
        "id": "fWD_a-WizApK"
      }
    },
    {
      "cell_type": "code",
      "source": [],
      "metadata": {
        "id": "FFzatAxMy_gV"
      },
      "execution_count": null,
      "outputs": []
    },
    {
      "cell_type": "markdown",
      "metadata": {
        "id": "46C8ugY1ZQka"
      },
      "source": [
        "# **Group By**\n",
        ">La instrucción **groupby** realiza agrupamientos por uno o más datos, de tal forma que podremos realizar cálculos de datos por esos mismos grupos.\n",
        "\n"
      ]
    },
    {
      "cell_type": "markdown",
      "source": [
        "**TOP TEN x Ventas**\n",
        "\n",
        "Obten las ventas (cantidad , ventas , descuento) por ciudad ordenado de manera descendente en cuanto a las ventas."
      ],
      "metadata": {
        "id": "BA-5GlYs2Riw"
      }
    },
    {
      "cell_type": "code",
      "execution_count": null,
      "metadata": {
        "id": "ewnHHB5KZQkb"
      },
      "outputs": [],
      "source": [
        "#Primer paso usar groupby y generar un df\n",
        "#Ordenar el daraframe de manera descendente y mostrar los primeros 10\n"
      ]
    },
    {
      "cell_type": "markdown",
      "source": [
        "**Generar otras dos vistas que sean de utilidad (con el groupby)**\n",
        "Analizar otras dos vistas que consideran puden ser utiles para conocer más sobre los datos."
      ],
      "metadata": {
        "id": "6xScUUtGJ-N_"
      }
    },
    {
      "cell_type": "code",
      "source": [],
      "metadata": {
        "id": "USzRO58OKzZM"
      },
      "execution_count": null,
      "outputs": []
    },
    {
      "cell_type": "markdown",
      "source": [
        "# **EXPORTACIÓN**\n",
        "\n",
        "Exportar los df a archivos de EXCEL."
      ],
      "metadata": {
        "id": "_KCeqjE6Kz1o"
      }
    },
    {
      "cell_type": "code",
      "execution_count": null,
      "metadata": {
        "id": "7gd5K7ZcZQkb"
      },
      "outputs": [],
      "source": [
        "# Exportar un df a un archivo de EXCEL.\n"
      ]
    },
    {
      "cell_type": "markdown",
      "source": [
        "\n",
        "\n",
        "---\n",
        "\n",
        "\n",
        "# **SEGUNDA PARTE**"
      ],
      "metadata": {
        "id": "PQp6NxyS10ZS"
      }
    },
    {
      "cell_type": "markdown",
      "metadata": {
        "id": "RkFjozazZQkb"
      },
      "source": [
        "## ¿y las Gráficas?\n",
        "\n",
        "Veamos la libreria **matplotlib**"
      ]
    },
    {
      "cell_type": "code",
      "execution_count": null,
      "metadata": {
        "id": "6VYURrWZZQkb"
      },
      "outputs": [],
      "source": [
        "import matplotlib.pyplot as plt  # solo importamos del módulo  pyplot\n"
      ]
    },
    {
      "cell_type": "code",
      "execution_count": null,
      "metadata": {
        "id": "j_FZ-T-9ZQkb"
      },
      "outputs": [],
      "source": [
        "\n"
      ]
    },
    {
      "cell_type": "code",
      "execution_count": null,
      "metadata": {
        "id": "tVP2Bq9IZQkc"
      },
      "outputs": [],
      "source": [
        "\n",
        "\n"
      ]
    },
    {
      "cell_type": "code",
      "execution_count": null,
      "metadata": {
        "id": "btWrqSQTZQkc"
      },
      "outputs": [],
      "source": []
    },
    {
      "cell_type": "markdown",
      "metadata": {
        "id": "fYh2P7LDZQkc"
      },
      "source": [
        "### NORMALIZAR\n",
        "Para poder comparar las ventas con los descuentos y ver si tienen una correlación debemos de ponerlos en una misma escala, para esto utilizremos la libreria **sklearn**"
      ]
    },
    {
      "cell_type": "code",
      "execution_count": null,
      "metadata": {
        "id": "7yFSXnNMZQkc"
      },
      "outputs": [],
      "source": [
        "\n",
        "from sklearn import preprocessing\n",
        "import seaborn as sns\n",
        "\n",
        "\n",
        "\n",
        "\n",
        "\n"
      ]
    }
  ]
}